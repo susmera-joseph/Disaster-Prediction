{
 "cells": [
  {
   "cell_type": "markdown",
   "id": "000ae608",
   "metadata": {},
   "source": [
    "# predictive analytics model for natural disasters, such as hurricanes"
   ]
  },
  {
   "cell_type": "code",
   "execution_count": 1,
   "id": "b018381d",
   "metadata": {},
   "outputs": [],
   "source": [
    "# importing the required libraries\n",
    "\n",
    "import pandas as pd\n",
    "from sklearn.linear_model import LogisticRegression\n",
    "from sklearn.model_selection import train_test_split"
   ]
  },
  {
   "cell_type": "code",
   "execution_count": 2,
   "id": "0230f3d4",
   "metadata": {},
   "outputs": [],
   "source": [
    "# read the existing file\n",
    "\n",
    "path = 'Downloads/temp_disaster_merge_new.csv'\n",
    "df = pd.read_csv(path)"
   ]
  },
  {
   "cell_type": "code",
   "execution_count": 3,
   "id": "0bc324af",
   "metadata": {},
   "outputs": [
    {
     "data": {
      "text/html": [
       "<div>\n",
       "<style scoped>\n",
       "    .dataframe tbody tr th:only-of-type {\n",
       "        vertical-align: middle;\n",
       "    }\n",
       "\n",
       "    .dataframe tbody tr th {\n",
       "        vertical-align: top;\n",
       "    }\n",
       "\n",
       "    .dataframe thead th {\n",
       "        text-align: right;\n",
       "    }\n",
       "</style>\n",
       "<table border=\"1\" class=\"dataframe\">\n",
       "  <thead>\n",
       "    <tr style=\"text-align: right;\">\n",
       "      <th></th>\n",
       "      <th>disaster_number</th>\n",
       "      <th>STATE</th>\n",
       "      <th>declaration_type</th>\n",
       "      <th>declaration_date</th>\n",
       "      <th>fy_declared</th>\n",
       "      <th>incident_type</th>\n",
       "      <th>declaration_title</th>\n",
       "      <th>fips</th>\n",
       "      <th>place_code</th>\n",
       "      <th>designated_area</th>\n",
       "      <th>...</th>\n",
       "      <th>month_x</th>\n",
       "      <th>month_year</th>\n",
       "      <th>TEMPERATURE_ID</th>\n",
       "      <th>DATE</th>\n",
       "      <th>Country</th>\n",
       "      <th>Fahrenheit</th>\n",
       "      <th>AverageTemperatureF</th>\n",
       "      <th>AverageTemperatureUncertaintyF</th>\n",
       "      <th>year_y</th>\n",
       "      <th>month_y</th>\n",
       "    </tr>\n",
       "  </thead>\n",
       "  <tbody>\n",
       "    <tr>\n",
       "      <th>0</th>\n",
       "      <td>1796</td>\n",
       "      <td>AK</td>\n",
       "      <td>DR</td>\n",
       "      <td>26-09-2008</td>\n",
       "      <td>2008</td>\n",
       "      <td>Severe Storm(s)</td>\n",
       "      <td>Severe Storms, Flooding, Landslides, And Mudsl...</td>\n",
       "      <td>2090</td>\n",
       "      <td>99090</td>\n",
       "      <td>Fairbanks North Star (Borough)</td>\n",
       "      <td>...</td>\n",
       "      <td>9</td>\n",
       "      <td>2008-09</td>\n",
       "      <td>1398</td>\n",
       "      <td>01-09-2008</td>\n",
       "      <td>United States</td>\n",
       "      <td>74.696</td>\n",
       "      <td>40.5392</td>\n",
       "      <td>32.4518</td>\n",
       "      <td>2008</td>\n",
       "      <td>9</td>\n",
       "    </tr>\n",
       "    <tr>\n",
       "      <th>1</th>\n",
       "      <td>1796</td>\n",
       "      <td>AK</td>\n",
       "      <td>DR</td>\n",
       "      <td>26-09-2008</td>\n",
       "      <td>2008</td>\n",
       "      <td>Severe Storm(s)</td>\n",
       "      <td>Severe Storms, Flooding, Landslides, And Mudsl...</td>\n",
       "      <td>2068</td>\n",
       "      <td>99068</td>\n",
       "      <td>Denali (Borough)</td>\n",
       "      <td>...</td>\n",
       "      <td>9</td>\n",
       "      <td>2008-09</td>\n",
       "      <td>1398</td>\n",
       "      <td>01-09-2008</td>\n",
       "      <td>United States</td>\n",
       "      <td>74.696</td>\n",
       "      <td>40.5392</td>\n",
       "      <td>32.4518</td>\n",
       "      <td>2008</td>\n",
       "      <td>9</td>\n",
       "    </tr>\n",
       "    <tr>\n",
       "      <th>2</th>\n",
       "      <td>1796</td>\n",
       "      <td>AK</td>\n",
       "      <td>DR</td>\n",
       "      <td>26-09-2008</td>\n",
       "      <td>2008</td>\n",
       "      <td>Severe Storm(s)</td>\n",
       "      <td>Severe Storms, Flooding, Landslides, And Mudsl...</td>\n",
       "      <td>2185</td>\n",
       "      <td>99185</td>\n",
       "      <td>North Slope (Borough)</td>\n",
       "      <td>...</td>\n",
       "      <td>9</td>\n",
       "      <td>2008-09</td>\n",
       "      <td>1398</td>\n",
       "      <td>01-09-2008</td>\n",
       "      <td>United States</td>\n",
       "      <td>74.696</td>\n",
       "      <td>40.5392</td>\n",
       "      <td>32.4518</td>\n",
       "      <td>2008</td>\n",
       "      <td>9</td>\n",
       "    </tr>\n",
       "    <tr>\n",
       "      <th>3</th>\n",
       "      <td>1796</td>\n",
       "      <td>AK</td>\n",
       "      <td>DR</td>\n",
       "      <td>26-09-2008</td>\n",
       "      <td>2008</td>\n",
       "      <td>Severe Storm(s)</td>\n",
       "      <td>Severe Storms, Flooding, Landslides, And Mudsl...</td>\n",
       "      <td>2290</td>\n",
       "      <td>86650</td>\n",
       "      <td>Yukon Koyukuk Regional Educational Attendance ...</td>\n",
       "      <td>...</td>\n",
       "      <td>9</td>\n",
       "      <td>2008-09</td>\n",
       "      <td>1398</td>\n",
       "      <td>01-09-2008</td>\n",
       "      <td>United States</td>\n",
       "      <td>74.696</td>\n",
       "      <td>40.5392</td>\n",
       "      <td>32.4518</td>\n",
       "      <td>2008</td>\n",
       "      <td>9</td>\n",
       "    </tr>\n",
       "    <tr>\n",
       "      <th>4</th>\n",
       "      <td>1440</td>\n",
       "      <td>AK</td>\n",
       "      <td>DR</td>\n",
       "      <td>08-11-2002</td>\n",
       "      <td>2003</td>\n",
       "      <td>Earthquake</td>\n",
       "      <td>Earthquake</td>\n",
       "      <td>2170</td>\n",
       "      <td>99170</td>\n",
       "      <td>Matanuska-Susitna (Borough)</td>\n",
       "      <td>...</td>\n",
       "      <td>11</td>\n",
       "      <td>2002-11</td>\n",
       "      <td>1328</td>\n",
       "      <td>01-11-2002</td>\n",
       "      <td>United States</td>\n",
       "      <td>-27.373</td>\n",
       "      <td>20.1254</td>\n",
       "      <td>32.4266</td>\n",
       "      <td>2002</td>\n",
       "      <td>11</td>\n",
       "    </tr>\n",
       "  </tbody>\n",
       "</table>\n",
       "<p>5 rows × 25 columns</p>\n",
       "</div>"
      ],
      "text/plain": [
       "   disaster_number STATE declaration_type declaration_date  fy_declared  \\\n",
       "0             1796    AK               DR       26-09-2008         2008   \n",
       "1             1796    AK               DR       26-09-2008         2008   \n",
       "2             1796    AK               DR       26-09-2008         2008   \n",
       "3             1796    AK               DR       26-09-2008         2008   \n",
       "4             1440    AK               DR       08-11-2002         2003   \n",
       "\n",
       "     incident_type                                  declaration_title  fips  \\\n",
       "0  Severe Storm(s)  Severe Storms, Flooding, Landslides, And Mudsl...  2090   \n",
       "1  Severe Storm(s)  Severe Storms, Flooding, Landslides, And Mudsl...  2068   \n",
       "2  Severe Storm(s)  Severe Storms, Flooding, Landslides, And Mudsl...  2185   \n",
       "3  Severe Storm(s)  Severe Storms, Flooding, Landslides, And Mudsl...  2290   \n",
       "4       Earthquake                                         Earthquake  2170   \n",
       "\n",
       "   place_code                                    designated_area  ...  \\\n",
       "0       99090                     Fairbanks North Star (Borough)  ...   \n",
       "1       99068                                   Denali (Borough)  ...   \n",
       "2       99185                              North Slope (Borough)  ...   \n",
       "3       86650  Yukon Koyukuk Regional Educational Attendance ...  ...   \n",
       "4       99170                        Matanuska-Susitna (Borough)  ...   \n",
       "\n",
       "   month_x month_year TEMPERATURE_ID        DATE        Country  Fahrenheit  \\\n",
       "0        9    2008-09           1398  01-09-2008  United States      74.696   \n",
       "1        9    2008-09           1398  01-09-2008  United States      74.696   \n",
       "2        9    2008-09           1398  01-09-2008  United States      74.696   \n",
       "3        9    2008-09           1398  01-09-2008  United States      74.696   \n",
       "4       11    2002-11           1328  01-11-2002  United States     -27.373   \n",
       "\n",
       "  AverageTemperatureF  AverageTemperatureUncertaintyF year_y month_y  \n",
       "0             40.5392                         32.4518   2008       9  \n",
       "1             40.5392                         32.4518   2008       9  \n",
       "2             40.5392                         32.4518   2008       9  \n",
       "3             40.5392                         32.4518   2008       9  \n",
       "4             20.1254                         32.4266   2002      11  \n",
       "\n",
       "[5 rows x 25 columns]"
      ]
     },
     "execution_count": 3,
     "metadata": {},
     "output_type": "execute_result"
    }
   ],
   "source": [
    "# show the data\n",
    "df.head()"
   ]
  },
  {
   "cell_type": "code",
   "execution_count": 4,
   "id": "f015a48d",
   "metadata": {},
   "outputs": [
    {
     "data": {
      "text/plain": [
       "disaster_number                   0\n",
       "STATE                             0\n",
       "declaration_type                  0\n",
       "declaration_date                  0\n",
       "fy_declared                       0\n",
       "incident_type                     0\n",
       "declaration_title                 0\n",
       "fips                              0\n",
       "place_code                        0\n",
       "designated_area                   0\n",
       "declaration_request_number        0\n",
       "hash                              0\n",
       "last_refresh                      0\n",
       "id                                0\n",
       "year_x                            0\n",
       "month_x                           0\n",
       "month_year                        0\n",
       "TEMPERATURE_ID                    0\n",
       "DATE                              0\n",
       "Country                           0\n",
       "Fahrenheit                        0\n",
       "AverageTemperatureF               0\n",
       "AverageTemperatureUncertaintyF    0\n",
       "year_y                            0\n",
       "month_y                           0\n",
       "dtype: int64"
      ]
     },
     "execution_count": 4,
     "metadata": {},
     "output_type": "execute_result"
    }
   ],
   "source": [
    "# checking the null values\n",
    "df.isnull().sum()"
   ]
  },
  {
   "cell_type": "markdown",
   "id": "d431f9de",
   "metadata": {},
   "source": [
    "# Preprocess the data"
   ]
  },
  {
   "cell_type": "code",
   "execution_count": 5,
   "id": "0afa0d7c",
   "metadata": {},
   "outputs": [
    {
     "data": {
      "text/html": [
       "<div>\n",
       "<style scoped>\n",
       "    .dataframe tbody tr th:only-of-type {\n",
       "        vertical-align: middle;\n",
       "    }\n",
       "\n",
       "    .dataframe tbody tr th {\n",
       "        vertical-align: top;\n",
       "    }\n",
       "\n",
       "    .dataframe thead th {\n",
       "        text-align: right;\n",
       "    }\n",
       "</style>\n",
       "<table border=\"1\" class=\"dataframe\">\n",
       "  <thead>\n",
       "    <tr style=\"text-align: right;\">\n",
       "      <th></th>\n",
       "      <th>disaster_number</th>\n",
       "      <th>STATE</th>\n",
       "      <th>declaration_type</th>\n",
       "      <th>incident_type</th>\n",
       "      <th>fips</th>\n",
       "      <th>place_code</th>\n",
       "      <th>designated_area</th>\n",
       "      <th>declaration_request_number</th>\n",
       "      <th>year_x</th>\n",
       "      <th>month_x</th>\n",
       "      <th>AverageTemperatureF</th>\n",
       "    </tr>\n",
       "  </thead>\n",
       "  <tbody>\n",
       "    <tr>\n",
       "      <th>0</th>\n",
       "      <td>1796</td>\n",
       "      <td>AK</td>\n",
       "      <td>DR</td>\n",
       "      <td>Severe Storm(s)</td>\n",
       "      <td>2090</td>\n",
       "      <td>99090</td>\n",
       "      <td>Fairbanks North Star (Borough)</td>\n",
       "      <td>8159</td>\n",
       "      <td>2008</td>\n",
       "      <td>9</td>\n",
       "      <td>40.5392</td>\n",
       "    </tr>\n",
       "    <tr>\n",
       "      <th>1</th>\n",
       "      <td>1796</td>\n",
       "      <td>AK</td>\n",
       "      <td>DR</td>\n",
       "      <td>Severe Storm(s)</td>\n",
       "      <td>2068</td>\n",
       "      <td>99068</td>\n",
       "      <td>Denali (Borough)</td>\n",
       "      <td>8159</td>\n",
       "      <td>2008</td>\n",
       "      <td>9</td>\n",
       "      <td>40.5392</td>\n",
       "    </tr>\n",
       "    <tr>\n",
       "      <th>2</th>\n",
       "      <td>1796</td>\n",
       "      <td>AK</td>\n",
       "      <td>DR</td>\n",
       "      <td>Severe Storm(s)</td>\n",
       "      <td>2185</td>\n",
       "      <td>99185</td>\n",
       "      <td>North Slope (Borough)</td>\n",
       "      <td>8159</td>\n",
       "      <td>2008</td>\n",
       "      <td>9</td>\n",
       "      <td>40.5392</td>\n",
       "    </tr>\n",
       "    <tr>\n",
       "      <th>3</th>\n",
       "      <td>1796</td>\n",
       "      <td>AK</td>\n",
       "      <td>DR</td>\n",
       "      <td>Severe Storm(s)</td>\n",
       "      <td>2290</td>\n",
       "      <td>86650</td>\n",
       "      <td>Yukon Koyukuk Regional Educational Attendance ...</td>\n",
       "      <td>8159</td>\n",
       "      <td>2008</td>\n",
       "      <td>9</td>\n",
       "      <td>40.5392</td>\n",
       "    </tr>\n",
       "    <tr>\n",
       "      <th>4</th>\n",
       "      <td>1440</td>\n",
       "      <td>AK</td>\n",
       "      <td>DR</td>\n",
       "      <td>Earthquake</td>\n",
       "      <td>2170</td>\n",
       "      <td>99170</td>\n",
       "      <td>Matanuska-Susitna (Borough)</td>\n",
       "      <td>2145</td>\n",
       "      <td>2002</td>\n",
       "      <td>11</td>\n",
       "      <td>20.1254</td>\n",
       "    </tr>\n",
       "  </tbody>\n",
       "</table>\n",
       "</div>"
      ],
      "text/plain": [
       "   disaster_number STATE declaration_type    incident_type  fips  place_code  \\\n",
       "0             1796    AK               DR  Severe Storm(s)  2090       99090   \n",
       "1             1796    AK               DR  Severe Storm(s)  2068       99068   \n",
       "2             1796    AK               DR  Severe Storm(s)  2185       99185   \n",
       "3             1796    AK               DR  Severe Storm(s)  2290       86650   \n",
       "4             1440    AK               DR       Earthquake  2170       99170   \n",
       "\n",
       "                                     designated_area  \\\n",
       "0                     Fairbanks North Star (Borough)   \n",
       "1                                   Denali (Borough)   \n",
       "2                              North Slope (Borough)   \n",
       "3  Yukon Koyukuk Regional Educational Attendance ...   \n",
       "4                        Matanuska-Susitna (Borough)   \n",
       "\n",
       "   declaration_request_number  year_x  month_x  AverageTemperatureF  \n",
       "0                        8159    2008        9              40.5392  \n",
       "1                        8159    2008        9              40.5392  \n",
       "2                        8159    2008        9              40.5392  \n",
       "3                        8159    2008        9              40.5392  \n",
       "4                        2145    2002       11              20.1254  "
      ]
     },
     "execution_count": 5,
     "metadata": {},
     "output_type": "execute_result"
    }
   ],
   "source": [
    "# Dropping columns we won't use\n",
    "\n",
    "disaster_temp_concise = df.drop(columns=[\"fy_declared\", \"declaration_date\", \"declaration_title\", \"hash\", \"last_refresh\", \"id\", \"month_year\", 'TEMPERATURE_ID', 'DATE',\n",
    "       'Country', 'Fahrenheit', 'AverageTemperatureUncertaintyF', 'year_y', 'month_y'])\n",
    "\n",
    "disaster_temp_concise.head()"
   ]
  },
  {
   "cell_type": "code",
   "execution_count": 6,
   "id": "1d10a671",
   "metadata": {},
   "outputs": [
    {
     "data": {
      "text/plain": [
       "disaster_number                 int64\n",
       "STATE                          object\n",
       "declaration_type               object\n",
       "incident_type                  object\n",
       "fips                            int64\n",
       "place_code                      int64\n",
       "designated_area                object\n",
       "declaration_request_number      int64\n",
       "year_x                          int64\n",
       "month_x                         int64\n",
       "AverageTemperatureF           float64\n",
       "dtype: object"
      ]
     },
     "execution_count": 6,
     "metadata": {},
     "output_type": "execute_result"
    }
   ],
   "source": [
    "# know about the data types of those attributes\n",
    "disaster_temp_concise.dtypes"
   ]
  },
  {
   "cell_type": "markdown",
   "id": "2829e7c1",
   "metadata": {},
   "source": [
    "# ONE HOT ENCODING"
   ]
  },
  {
   "cell_type": "code",
   "execution_count": 7,
   "id": "e2928acc",
   "metadata": {},
   "outputs": [
    {
     "data": {
      "text/plain": [
       "Index(['disaster_number', 'STATE', 'declaration_type', 'fips', 'place_code',\n",
       "       'designated_area', 'declaration_request_number', 'year_x', 'month_x',\n",
       "       'AverageTemperatureF', 'incident_type_Coastal Storm',\n",
       "       'incident_type_Dam/Levee Break', 'incident_type_Drought',\n",
       "       'incident_type_Earthquake', 'incident_type_Fire',\n",
       "       'incident_type_Fishing Losses', 'incident_type_Flood',\n",
       "       'incident_type_Freezing', 'incident_type_Human Cause',\n",
       "       'incident_type_Hurricane', 'incident_type_Mud/Landslide',\n",
       "       'incident_type_Severe Ice Storm', 'incident_type_Severe Storm(s)',\n",
       "       'incident_type_Snow', 'incident_type_Terrorist',\n",
       "       'incident_type_Tornado', 'incident_type_Toxic Substances',\n",
       "       'incident_type_Tsunami', 'incident_type_Typhoon',\n",
       "       'incident_type_Volcano'],\n",
       "      dtype='object')"
      ]
     },
     "execution_count": 7,
     "metadata": {},
     "output_type": "execute_result"
    }
   ],
   "source": [
    "# encode incident type\n",
    "dt_encoded = pd.get_dummies(disaster_temp_concise, columns=[\"incident_type\"])\n",
    "dt_encoded.columns"
   ]
  },
  {
   "cell_type": "code",
   "execution_count": 8,
   "id": "2c03a47a",
   "metadata": {},
   "outputs": [
    {
     "data": {
      "text/html": [
       "<div>\n",
       "<style scoped>\n",
       "    .dataframe tbody tr th:only-of-type {\n",
       "        vertical-align: middle;\n",
       "    }\n",
       "\n",
       "    .dataframe tbody tr th {\n",
       "        vertical-align: top;\n",
       "    }\n",
       "\n",
       "    .dataframe thead th {\n",
       "        text-align: right;\n",
       "    }\n",
       "</style>\n",
       "<table border=\"1\" class=\"dataframe\">\n",
       "  <thead>\n",
       "    <tr style=\"text-align: right;\">\n",
       "      <th></th>\n",
       "      <th>disaster_number</th>\n",
       "      <th>STATE</th>\n",
       "      <th>declaration_type</th>\n",
       "      <th>fips</th>\n",
       "      <th>place_code</th>\n",
       "      <th>designated_area</th>\n",
       "      <th>declaration_request_number</th>\n",
       "      <th>year_x</th>\n",
       "      <th>month_x</th>\n",
       "      <th>AverageTemperatureF</th>\n",
       "      <th>incident_type_Hurricane</th>\n",
       "    </tr>\n",
       "  </thead>\n",
       "  <tbody>\n",
       "    <tr>\n",
       "      <th>0</th>\n",
       "      <td>1796</td>\n",
       "      <td>AK</td>\n",
       "      <td>DR</td>\n",
       "      <td>2090</td>\n",
       "      <td>99090</td>\n",
       "      <td>Fairbanks North Star (Borough)</td>\n",
       "      <td>8159</td>\n",
       "      <td>2008</td>\n",
       "      <td>9</td>\n",
       "      <td>40.5392</td>\n",
       "      <td>0</td>\n",
       "    </tr>\n",
       "    <tr>\n",
       "      <th>1</th>\n",
       "      <td>1796</td>\n",
       "      <td>AK</td>\n",
       "      <td>DR</td>\n",
       "      <td>2068</td>\n",
       "      <td>99068</td>\n",
       "      <td>Denali (Borough)</td>\n",
       "      <td>8159</td>\n",
       "      <td>2008</td>\n",
       "      <td>9</td>\n",
       "      <td>40.5392</td>\n",
       "      <td>0</td>\n",
       "    </tr>\n",
       "    <tr>\n",
       "      <th>2</th>\n",
       "      <td>1796</td>\n",
       "      <td>AK</td>\n",
       "      <td>DR</td>\n",
       "      <td>2185</td>\n",
       "      <td>99185</td>\n",
       "      <td>North Slope (Borough)</td>\n",
       "      <td>8159</td>\n",
       "      <td>2008</td>\n",
       "      <td>9</td>\n",
       "      <td>40.5392</td>\n",
       "      <td>0</td>\n",
       "    </tr>\n",
       "    <tr>\n",
       "      <th>3</th>\n",
       "      <td>1796</td>\n",
       "      <td>AK</td>\n",
       "      <td>DR</td>\n",
       "      <td>2290</td>\n",
       "      <td>86650</td>\n",
       "      <td>Yukon Koyukuk Regional Educational Attendance ...</td>\n",
       "      <td>8159</td>\n",
       "      <td>2008</td>\n",
       "      <td>9</td>\n",
       "      <td>40.5392</td>\n",
       "      <td>0</td>\n",
       "    </tr>\n",
       "    <tr>\n",
       "      <th>4</th>\n",
       "      <td>1440</td>\n",
       "      <td>AK</td>\n",
       "      <td>DR</td>\n",
       "      <td>2170</td>\n",
       "      <td>99170</td>\n",
       "      <td>Matanuska-Susitna (Borough)</td>\n",
       "      <td>2145</td>\n",
       "      <td>2002</td>\n",
       "      <td>11</td>\n",
       "      <td>20.1254</td>\n",
       "      <td>0</td>\n",
       "    </tr>\n",
       "  </tbody>\n",
       "</table>\n",
       "</div>"
      ],
      "text/plain": [
       "   disaster_number STATE declaration_type  fips  place_code  \\\n",
       "0             1796    AK               DR  2090       99090   \n",
       "1             1796    AK               DR  2068       99068   \n",
       "2             1796    AK               DR  2185       99185   \n",
       "3             1796    AK               DR  2290       86650   \n",
       "4             1440    AK               DR  2170       99170   \n",
       "\n",
       "                                     designated_area  \\\n",
       "0                     Fairbanks North Star (Borough)   \n",
       "1                                   Denali (Borough)   \n",
       "2                              North Slope (Borough)   \n",
       "3  Yukon Koyukuk Regional Educational Attendance ...   \n",
       "4                        Matanuska-Susitna (Borough)   \n",
       "\n",
       "   declaration_request_number  year_x  month_x  AverageTemperatureF  \\\n",
       "0                        8159    2008        9              40.5392   \n",
       "1                        8159    2008        9              40.5392   \n",
       "2                        8159    2008        9              40.5392   \n",
       "3                        8159    2008        9              40.5392   \n",
       "4                        2145    2002       11              20.1254   \n",
       "\n",
       "   incident_type_Hurricane  \n",
       "0                        0  \n",
       "1                        0  \n",
       "2                        0  \n",
       "3                        0  \n",
       "4                        0  "
      ]
     },
     "execution_count": 8,
     "metadata": {},
     "output_type": "execute_result"
    }
   ],
   "source": [
    "# drop columns so only using hurricane data \n",
    "dt_hurricane = dt_encoded.drop(columns=[\n",
    "       'incident_type_Coastal Storm',\n",
    "       'incident_type_Dam/Levee Break', 'incident_type_Drought',\n",
    "       'incident_type_Earthquake', 'incident_type_Fire',\n",
    "       'incident_type_Fishing Losses', 'incident_type_Flood',\n",
    "       'incident_type_Freezing', 'incident_type_Human Cause','incident_type_Mud/Landslide',\n",
    "       'incident_type_Severe Ice Storm', 'incident_type_Severe Storm(s)',\n",
    "       'incident_type_Snow', 'incident_type_Terrorist',\n",
    "       'incident_type_Tornado', 'incident_type_Toxic Substances',\n",
    "       'incident_type_Tsunami', 'incident_type_Typhoon',\n",
    "       'incident_type_Volcano'])\n",
    "dt_hurricane.head()"
   ]
  },
  {
   "cell_type": "code",
   "execution_count": 9,
   "id": "5983885f",
   "metadata": {},
   "outputs": [
    {
     "data": {
      "text/plain": [
       "disaster_number                 int64\n",
       "STATE                          object\n",
       "declaration_type               object\n",
       "fips                            int64\n",
       "place_code                      int64\n",
       "designated_area                object\n",
       "declaration_request_number      int64\n",
       "year_x                          int64\n",
       "month_x                         int64\n",
       "AverageTemperatureF           float64\n",
       "incident_type_Hurricane         uint8\n",
       "dtype: object"
      ]
     },
     "execution_count": 9,
     "metadata": {},
     "output_type": "execute_result"
    }
   ],
   "source": [
    "# checking dtypes\n",
    "dt_hurricane.dtypes"
   ]
  },
  {
   "cell_type": "markdown",
   "id": "bcd02392",
   "metadata": {},
   "source": []
  },
  {
   "cell_type": "code",
   "execution_count": 10,
   "id": "b4d2d385",
   "metadata": {},
   "outputs": [],
   "source": [
    "# encode object columns\n",
    "from sklearn.preprocessing import LabelEncoder\n",
    "le = LabelEncoder()\n",
    "dt_hurricane[\"STATE\"] = le.fit_transform(dt_hurricane[\"STATE\"])\n",
    "dt_hurricane[\"declaration_type\"] = le.fit_transform(dt_hurricane[\"declaration_type\"])\n",
    "dt_hurricane[\"place_code\"] = le.fit_transform(dt_hurricane[\"place_code\"])\n",
    "dt_hurricane[\"designated_area\"] = le.fit_transform(dt_hurricane[\"designated_area\"])"
   ]
  },
  {
   "cell_type": "code",
   "execution_count": 11,
   "id": "2ac21adb",
   "metadata": {},
   "outputs": [
    {
     "data": {
      "text/html": [
       "<div>\n",
       "<style scoped>\n",
       "    .dataframe tbody tr th:only-of-type {\n",
       "        vertical-align: middle;\n",
       "    }\n",
       "\n",
       "    .dataframe tbody tr th {\n",
       "        vertical-align: top;\n",
       "    }\n",
       "\n",
       "    .dataframe thead th {\n",
       "        text-align: right;\n",
       "    }\n",
       "</style>\n",
       "<table border=\"1\" class=\"dataframe\">\n",
       "  <thead>\n",
       "    <tr style=\"text-align: right;\">\n",
       "      <th></th>\n",
       "      <th>disaster_number</th>\n",
       "      <th>STATE</th>\n",
       "      <th>declaration_type</th>\n",
       "      <th>fips</th>\n",
       "      <th>place_code</th>\n",
       "      <th>designated_area</th>\n",
       "      <th>declaration_request_number</th>\n",
       "      <th>year_x</th>\n",
       "      <th>month_x</th>\n",
       "      <th>AverageTemperatureF</th>\n",
       "      <th>incident_type_Hurricane</th>\n",
       "    </tr>\n",
       "  </thead>\n",
       "  <tbody>\n",
       "    <tr>\n",
       "      <th>0</th>\n",
       "      <td>1796</td>\n",
       "      <td>0</td>\n",
       "      <td>0</td>\n",
       "      <td>2090</td>\n",
       "      <td>216</td>\n",
       "      <td>564</td>\n",
       "      <td>8159</td>\n",
       "      <td>2008</td>\n",
       "      <td>9</td>\n",
       "      <td>40.5392</td>\n",
       "      <td>0</td>\n",
       "    </tr>\n",
       "    <tr>\n",
       "      <th>1</th>\n",
       "      <td>1796</td>\n",
       "      <td>0</td>\n",
       "      <td>0</td>\n",
       "      <td>2068</td>\n",
       "      <td>201</td>\n",
       "      <td>477</td>\n",
       "      <td>8159</td>\n",
       "      <td>2008</td>\n",
       "      <td>9</td>\n",
       "      <td>40.5392</td>\n",
       "      <td>0</td>\n",
       "    </tr>\n",
       "    <tr>\n",
       "      <th>2</th>\n",
       "      <td>1796</td>\n",
       "      <td>0</td>\n",
       "      <td>0</td>\n",
       "      <td>2185</td>\n",
       "      <td>269</td>\n",
       "      <td>1227</td>\n",
       "      <td>8159</td>\n",
       "      <td>2008</td>\n",
       "      <td>9</td>\n",
       "      <td>40.5392</td>\n",
       "      <td>0</td>\n",
       "    </tr>\n",
       "    <tr>\n",
       "      <th>3</th>\n",
       "      <td>1796</td>\n",
       "      <td>0</td>\n",
       "      <td>0</td>\n",
       "      <td>2290</td>\n",
       "      <td>154</td>\n",
       "      <td>1926</td>\n",
       "      <td>8159</td>\n",
       "      <td>2008</td>\n",
       "      <td>9</td>\n",
       "      <td>40.5392</td>\n",
       "      <td>0</td>\n",
       "    </tr>\n",
       "    <tr>\n",
       "      <th>4</th>\n",
       "      <td>1440</td>\n",
       "      <td>0</td>\n",
       "      <td>0</td>\n",
       "      <td>2170</td>\n",
       "      <td>260</td>\n",
       "      <td>1068</td>\n",
       "      <td>2145</td>\n",
       "      <td>2002</td>\n",
       "      <td>11</td>\n",
       "      <td>20.1254</td>\n",
       "      <td>0</td>\n",
       "    </tr>\n",
       "    <tr>\n",
       "      <th>...</th>\n",
       "      <td>...</td>\n",
       "      <td>...</td>\n",
       "      <td>...</td>\n",
       "      <td>...</td>\n",
       "      <td>...</td>\n",
       "      <td>...</td>\n",
       "      <td>...</td>\n",
       "      <td>...</td>\n",
       "      <td>...</td>\n",
       "      <td>...</td>\n",
       "      <td>...</td>\n",
       "    </tr>\n",
       "    <tr>\n",
       "      <th>40727</th>\n",
       "      <td>2460</td>\n",
       "      <td>48</td>\n",
       "      <td>2</td>\n",
       "      <td>56023</td>\n",
       "      <td>174</td>\n",
       "      <td>997</td>\n",
       "      <td>2126</td>\n",
       "      <td>2002</td>\n",
       "      <td>8</td>\n",
       "      <td>63.0392</td>\n",
       "      <td>0</td>\n",
       "    </tr>\n",
       "    <tr>\n",
       "      <th>40728</th>\n",
       "      <td>1268</td>\n",
       "      <td>48</td>\n",
       "      <td>0</td>\n",
       "      <td>56027</td>\n",
       "      <td>176</td>\n",
       "      <td>1217</td>\n",
       "      <td>99017</td>\n",
       "      <td>1999</td>\n",
       "      <td>2</td>\n",
       "      <td>28.6178</td>\n",
       "      <td>0</td>\n",
       "    </tr>\n",
       "    <tr>\n",
       "      <th>40729</th>\n",
       "      <td>1268</td>\n",
       "      <td>48</td>\n",
       "      <td>0</td>\n",
       "      <td>56015</td>\n",
       "      <td>169</td>\n",
       "      <td>669</td>\n",
       "      <td>99017</td>\n",
       "      <td>1999</td>\n",
       "      <td>2</td>\n",
       "      <td>28.6178</td>\n",
       "      <td>0</td>\n",
       "    </tr>\n",
       "    <tr>\n",
       "      <th>40730</th>\n",
       "      <td>2993</td>\n",
       "      <td>48</td>\n",
       "      <td>2</td>\n",
       "      <td>56001</td>\n",
       "      <td>159</td>\n",
       "      <td>15</td>\n",
       "      <td>12050</td>\n",
       "      <td>2012</td>\n",
       "      <td>7</td>\n",
       "      <td>70.4534</td>\n",
       "      <td>0</td>\n",
       "    </tr>\n",
       "    <tr>\n",
       "      <th>40731</th>\n",
       "      <td>2995</td>\n",
       "      <td>48</td>\n",
       "      <td>2</td>\n",
       "      <td>56045</td>\n",
       "      <td>187</td>\n",
       "      <td>1849</td>\n",
       "      <td>12052</td>\n",
       "      <td>2012</td>\n",
       "      <td>7</td>\n",
       "      <td>70.4534</td>\n",
       "      <td>0</td>\n",
       "    </tr>\n",
       "  </tbody>\n",
       "</table>\n",
       "<p>40732 rows × 11 columns</p>\n",
       "</div>"
      ],
      "text/plain": [
       "       disaster_number  STATE  declaration_type   fips  place_code  \\\n",
       "0                 1796      0                 0   2090         216   \n",
       "1                 1796      0                 0   2068         201   \n",
       "2                 1796      0                 0   2185         269   \n",
       "3                 1796      0                 0   2290         154   \n",
       "4                 1440      0                 0   2170         260   \n",
       "...                ...    ...               ...    ...         ...   \n",
       "40727             2460     48                 2  56023         174   \n",
       "40728             1268     48                 0  56027         176   \n",
       "40729             1268     48                 0  56015         169   \n",
       "40730             2993     48                 2  56001         159   \n",
       "40731             2995     48                 2  56045         187   \n",
       "\n",
       "       designated_area  declaration_request_number  year_x  month_x  \\\n",
       "0                  564                        8159    2008        9   \n",
       "1                  477                        8159    2008        9   \n",
       "2                 1227                        8159    2008        9   \n",
       "3                 1926                        8159    2008        9   \n",
       "4                 1068                        2145    2002       11   \n",
       "...                ...                         ...     ...      ...   \n",
       "40727              997                        2126    2002        8   \n",
       "40728             1217                       99017    1999        2   \n",
       "40729              669                       99017    1999        2   \n",
       "40730               15                       12050    2012        7   \n",
       "40731             1849                       12052    2012        7   \n",
       "\n",
       "       AverageTemperatureF  incident_type_Hurricane  \n",
       "0                  40.5392                        0  \n",
       "1                  40.5392                        0  \n",
       "2                  40.5392                        0  \n",
       "3                  40.5392                        0  \n",
       "4                  20.1254                        0  \n",
       "...                    ...                      ...  \n",
       "40727              63.0392                        0  \n",
       "40728              28.6178                        0  \n",
       "40729              28.6178                        0  \n",
       "40730              70.4534                        0  \n",
       "40731              70.4534                        0  \n",
       "\n",
       "[40732 rows x 11 columns]"
      ]
     },
     "execution_count": 11,
     "metadata": {},
     "output_type": "execute_result"
    }
   ],
   "source": [
    "dt_hurricane"
   ]
  },
  {
   "cell_type": "code",
   "execution_count": 12,
   "id": "6578d22b",
   "metadata": {},
   "outputs": [
    {
     "data": {
      "text/plain": [
       "disaster_number                 int64\n",
       "STATE                           int32\n",
       "declaration_type                int32\n",
       "fips                            int64\n",
       "place_code                      int64\n",
       "designated_area                 int32\n",
       "declaration_request_number      int64\n",
       "year_x                          int64\n",
       "month_x                         int64\n",
       "AverageTemperatureF           float64\n",
       "incident_type_Hurricane         uint8\n",
       "dtype: object"
      ]
     },
     "execution_count": 12,
     "metadata": {},
     "output_type": "execute_result"
    }
   ],
   "source": [
    "# checking dtypes\n",
    "dt_hurricane.dtypes"
   ]
  },
  {
   "cell_type": "code",
   "execution_count": 13,
   "id": "f51de373",
   "metadata": {},
   "outputs": [
    {
     "data": {
      "text/plain": [
       "disaster_number               0\n",
       "STATE                         0\n",
       "declaration_type              0\n",
       "fips                          0\n",
       "place_code                    0\n",
       "designated_area               0\n",
       "declaration_request_number    0\n",
       "year_x                        0\n",
       "month_x                       0\n",
       "AverageTemperatureF           0\n",
       "incident_type_Hurricane       0\n",
       "dtype: int64"
      ]
     },
     "execution_count": 13,
     "metadata": {},
     "output_type": "execute_result"
    }
   ],
   "source": [
    "# check for nulls\n",
    "dt_hurricane.isnull().sum()"
   ]
  },
  {
   "cell_type": "code",
   "execution_count": 14,
   "id": "6b115838",
   "metadata": {},
   "outputs": [
    {
     "data": {
      "text/plain": [
       "40732"
      ]
     },
     "execution_count": 14,
     "metadata": {},
     "output_type": "execute_result"
    }
   ],
   "source": [
    "# check count \n",
    "len(dt_hurricane[\"disaster_number\"])"
   ]
  },
  {
   "cell_type": "markdown",
   "id": "c442b607",
   "metadata": {},
   "source": [
    "# Test and Train the Data \n",
    "\n",
    "# x--->Independent variable\n",
    "\n",
    "# y--->Dependent variable"
   ]
  },
  {
   "cell_type": "code",
   "execution_count": 15,
   "id": "bcdbde61",
   "metadata": {},
   "outputs": [],
   "source": [
    "# split into X and Y valuese\n",
    "y = dt_hurricane[\"incident_type_Hurricane\"]\n",
    "X = dt_hurricane.drop(columns=[\"incident_type_Hurricane\"])\n",
    "\n",
    "X_train, X_test, y_train, y_test = train_test_split(X, y, random_state=1, stratify=y)"
   ]
  },
  {
   "cell_type": "code",
   "execution_count": 16,
   "id": "5c3cc135",
   "metadata": {},
   "outputs": [],
   "source": [
    "# scale and normalize data\n",
    "from sklearn.preprocessing import StandardScaler\n",
    "scaler = StandardScaler()\n",
    "\n",
    "X_scaler  = scaler.fit(X_train)\n",
    "X_train_scaled = X_scaler.transform(X_train)\n",
    "X_test_scaled = X_scaler.transform(X_test)"
   ]
  },
  {
   "cell_type": "markdown",
   "id": "447027d0",
   "metadata": {},
   "source": [
    "# BUILD MODEL BY USING LOGISTIC REGRESSION"
   ]
  },
  {
   "cell_type": "code",
   "execution_count": 17,
   "id": "456bf0a4",
   "metadata": {},
   "outputs": [],
   "source": [
    "# instantate Logistic Regression\n",
    "classifier = LogisticRegression(random_state=1)"
   ]
  },
  {
   "cell_type": "code",
   "execution_count": 18,
   "id": "b2a13bb1",
   "metadata": {},
   "outputs": [
    {
     "data": {
      "text/plain": [
       "LogisticRegression(random_state=1)"
      ]
     },
     "execution_count": 18,
     "metadata": {},
     "output_type": "execute_result"
    }
   ],
   "source": [
    "# fit model\n",
    "classifier.fit(X_train_scaled, y_train)"
   ]
  },
  {
   "cell_type": "code",
   "execution_count": 19,
   "id": "f32951e3",
   "metadata": {},
   "outputs": [],
   "source": [
    "#predict\n",
    "y_predict = classifier.predict(X_test_scaled)"
   ]
  },
  {
   "cell_type": "code",
   "execution_count": 20,
   "id": "3ffbfb6e",
   "metadata": {},
   "outputs": [
    {
     "data": {
      "text/plain": [
       "0.8999312579789845"
      ]
     },
     "execution_count": 20,
     "metadata": {},
     "output_type": "execute_result"
    }
   ],
   "source": [
    "from sklearn.metrics import accuracy_score\n",
    "accuracy_score(y_test, y_predict)"
   ]
  },
  {
   "cell_type": "code",
   "execution_count": 21,
   "id": "f4764f30",
   "metadata": {},
   "outputs": [],
   "source": [
    "# # Import seaborn library for visualize the prediction\n",
    "# import seaborn as sns\n",
    "# sns.distplot(y_test-y_predict)"
   ]
  },
  {
   "cell_type": "code",
   "execution_count": 22,
   "id": "9c460421",
   "metadata": {},
   "outputs": [
    {
     "data": {
      "text/html": [
       "<div>\n",
       "<style scoped>\n",
       "    .dataframe tbody tr th:only-of-type {\n",
       "        vertical-align: middle;\n",
       "    }\n",
       "\n",
       "    .dataframe tbody tr th {\n",
       "        vertical-align: top;\n",
       "    }\n",
       "\n",
       "    .dataframe thead th {\n",
       "        text-align: right;\n",
       "    }\n",
       "</style>\n",
       "<table border=\"1\" class=\"dataframe\">\n",
       "  <thead>\n",
       "    <tr style=\"text-align: right;\">\n",
       "      <th></th>\n",
       "      <th>Predicted 0</th>\n",
       "      <th>Predicted 1</th>\n",
       "    </tr>\n",
       "  </thead>\n",
       "  <tbody>\n",
       "    <tr>\n",
       "      <th>Actual 0</th>\n",
       "      <td>7833</td>\n",
       "      <td>460</td>\n",
       "    </tr>\n",
       "    <tr>\n",
       "      <th>Actual 1</th>\n",
       "      <td>559</td>\n",
       "      <td>1331</td>\n",
       "    </tr>\n",
       "  </tbody>\n",
       "</table>\n",
       "</div>"
      ],
      "text/plain": [
       "          Predicted 0  Predicted 1\n",
       "Actual 0         7833          460\n",
       "Actual 1          559         1331"
      ]
     },
     "execution_count": 22,
     "metadata": {},
     "output_type": "execute_result"
    }
   ],
   "source": [
    "from sklearn.metrics import confusion_matrix\n",
    "cm = confusion_matrix(y_test, y_predict)\n",
    "cm_df = pd.DataFrame(cm, index=[\"Actual 0\", \"Actual 1\"], columns=[\"Predicted 0\", \"Predicted 1\"])\n",
    "cm_df"
   ]
  },
  {
   "cell_type": "markdown",
   "id": "6bd5272e",
   "metadata": {},
   "source": [
    "# BUILD MODEL BY USING RANDOM FOREST REGRESSSION"
   ]
  },
  {
   "cell_type": "code",
   "execution_count": 23,
   "id": "2d9035a7",
   "metadata": {},
   "outputs": [],
   "source": [
    "# Import the required libraries\n",
    "# random forest model\n",
    "from sklearn.ensemble import RandomForestRegressor\n",
    "from sklearn.model_selection import train_test_split\n",
    "from sklearn.metrics import r2_score"
   ]
  },
  {
   "cell_type": "code",
   "execution_count": 24,
   "id": "1e17ead6",
   "metadata": {},
   "outputs": [],
   "source": [
    "# Split the dataset into training and testing sets\n",
    "X_train, X_test, y_train, y_test = train_test_split(X, y, test_size=0.2, random_state=42)"
   ]
  },
  {
   "cell_type": "code",
   "execution_count": 25,
   "id": "1e5a082a",
   "metadata": {},
   "outputs": [],
   "source": [
    "# Initialize the Random Forest Regressor\n",
    "rf = RandomForestRegressor(n_estimators=100, random_state=42)"
   ]
  },
  {
   "cell_type": "code",
   "execution_count": 26,
   "id": "2385a509",
   "metadata": {},
   "outputs": [
    {
     "data": {
      "text/plain": [
       "RandomForestRegressor(random_state=42)"
      ]
     },
     "execution_count": 26,
     "metadata": {},
     "output_type": "execute_result"
    }
   ],
   "source": [
    "# Train the Random Forest Regressor\n",
    "rf.fit(X_train, y_train)"
   ]
  },
  {
   "cell_type": "code",
   "execution_count": 27,
   "id": "f0b735a9",
   "metadata": {},
   "outputs": [],
   "source": [
    "# Make predictions on the testing set\n",
    "y_pred = rf.predict(X_test)"
   ]
  },
  {
   "cell_type": "code",
   "execution_count": 38,
   "id": "386e75eb",
   "metadata": {},
   "outputs": [
    {
     "name": "stdout",
     "output_type": "stream",
     "text": [
      "R2 score: 0.9905151150583942\n"
     ]
    }
   ],
   "source": [
    "# Evaluate the model's performance\n",
    "sc1=r2_score(y_test, y_pred)\n",
    "print('R2 score:', sc1)"
   ]
  },
  {
   "cell_type": "code",
   "execution_count": 29,
   "id": "648cc579",
   "metadata": {},
   "outputs": [
    {
     "name": "stdout",
     "output_type": "stream",
     "text": [
      "Model score on test data: 0.9905151150583942\n"
     ]
    }
   ],
   "source": [
    "# Evaluate the performance of the model on the test data\n",
    "score = rf.score(X_test, y_test)\n",
    "print(\"Model score on test data:\", score)\n"
   ]
  },
  {
   "cell_type": "code",
   "execution_count": 30,
   "id": "bc2f63d6",
   "metadata": {},
   "outputs": [
    {
     "name": "stderr",
     "output_type": "stream",
     "text": [
      "C:\\Users\\STARJAN\\anaconda3\\lib\\site-packages\\seaborn\\distributions.py:2619: FutureWarning: `distplot` is a deprecated function and will be removed in a future version. Please adapt your code to use either `displot` (a figure-level function with similar flexibility) or `histplot` (an axes-level function for histograms).\n",
      "  warnings.warn(msg, FutureWarning)\n"
     ]
    },
    {
     "data": {
      "text/plain": [
       "<AxesSubplot:xlabel='incident_type_Hurricane', ylabel='Density'>"
      ]
     },
     "execution_count": 30,
     "metadata": {},
     "output_type": "execute_result"
    },
    {
     "data": {
      "image/png": "[encoded data removed]",
      "text/plain": [
       "<Figure size 432x288 with 1 Axes>"
      ]
     },
     "metadata": {
      "needs_background": "light"
     },
     "output_type": "display_data"
    }
   ],
   "source": [
    "# Import seaborn library for visualize the prediction\n",
    "import seaborn as sns\n",
    "sns.distplot(y_test-y_pred)"
   ]
  },
  {
   "cell_type": "markdown",
   "id": "be6cd5e8",
   "metadata": {},
   "source": [
    "# BUILD MODEL BY USING GRADIENT BOOSTING REGRESSSION"
   ]
  },
  {
   "cell_type": "code",
   "execution_count": 31,
   "id": "1ae1a539",
   "metadata": {},
   "outputs": [],
   "source": [
    "from sklearn.ensemble import GradientBoostingRegressor"
   ]
  },
  {
   "cell_type": "code",
   "execution_count": 32,
   "id": "fe68741f",
   "metadata": {},
   "outputs": [],
   "source": [
    "# Initialize the Gradient Boosting Regressor\n",
    "gb = GradientBoostingRegressor(n_estimators=100, learning_rate=0.1, random_state=42)"
   ]
  },
  {
   "cell_type": "code",
   "execution_count": 33,
   "id": "7c200e60",
   "metadata": {},
   "outputs": [
    {
     "data": {
      "text/plain": [
       "GradientBoostingRegressor(random_state=42)"
      ]
     },
     "execution_count": 33,
     "metadata": {},
     "output_type": "execute_result"
    }
   ],
   "source": [
    "# Train the Gradient Boosting Regressor\n",
    "gb.fit(X_train, y_train)"
   ]
  },
  {
   "cell_type": "code",
   "execution_count": 34,
   "id": "eefd6791",
   "metadata": {},
   "outputs": [],
   "source": [
    "# Make predictions on the testing set\n",
    "Y_pred = gb.predict(X_test)"
   ]
  },
  {
   "cell_type": "code",
   "execution_count": 37,
   "id": "ea743a75",
   "metadata": {},
   "outputs": [
    {
     "name": "stdout",
     "output_type": "stream",
     "text": [
      "R2 score: 0.8570125763892293\n"
     ]
    }
   ],
   "source": [
    "# Evaluate the model's performance\n",
    "sc=r2_score(y_test, Y_pred)\n",
    "print('R2 score:',sc )"
   ]
  },
  {
   "cell_type": "markdown",
   "id": "c372a889",
   "metadata": {},
   "source": [
    "# BUILD MODEL BY USING SUPPORT VECTOR MACHINE"
   ]
  },
  {
   "cell_type": "code",
   "execution_count": 33,
   "id": "ff992242",
   "metadata": {},
   "outputs": [],
   "source": [
    "# from sklearn.svm import SVC\n",
    "# from sklearn.metrics import accuracy_score"
   ]
  },
  {
   "cell_type": "code",
   "execution_count": 34,
   "id": "9980509f",
   "metadata": {},
   "outputs": [],
   "source": [
    "# svm = SVC(kernel='linear', C=1.0, random_state=42)"
   ]
  },
  {
   "cell_type": "code",
   "execution_count": null,
   "id": "a5fdc7fe",
   "metadata": {},
   "outputs": [],
   "source": [
    "# svm.fit(X_train, y_train)"
   ]
  },
  {
   "cell_type": "code",
   "execution_count": 40,
   "id": "c159143a",
   "metadata": {},
   "outputs": [],
   "source": [
    "# y_pred = svm.predict(X_test)"
   ]
  },
  {
   "cell_type": "code",
   "execution_count": 41,
   "id": "20436126",
   "metadata": {},
   "outputs": [],
   "source": [
    "# print('Accuracy:', accuracy_score(y_test, y_pred))"
   ]
  },
  {
   "cell_type": "markdown",
   "id": "053a4de6",
   "metadata": {},
   "source": [
    "# Visualize the models"
   ]
  },
  {
   "cell_type": "code",
   "execution_count": 44,
   "id": "b1cf13bb",
   "metadata": {},
   "outputs": [
    {
     "data": {
      "image/png": "[encoded data removed]",
      "text/plain": [
       "<Figure size 432x288 with 1 Axes>"
      ]
     },
     "metadata": {
      "needs_background": "light"
     },
     "output_type": "display_data"
    }
   ],
   "source": [
    "import matplotlib.pyplot as plt\n",
    "\n",
    "# Define the names and accuracy scores of your models\n",
    "model_names = ['Logistic Regression', 'Random Forest', 'Gradient Boosting']\n",
    "accuracy_scores = [0.8999312579789845, 0.9905151150583942, 0.8570125763892293]\n",
    "\n",
    "# Create a bar chart\n",
    "fig, ax = plt.subplots()\n",
    "ax.bar(model_names, accuracy_scores)\n",
    "\n",
    "# Set the chart title and axis labels\n",
    "ax.set_title('Model Accuracy')\n",
    "ax.set_xlabel('Model')\n",
    "ax.set_ylabel('Accuracy')\n",
    "\n",
    "# Display the chart\n",
    "plt.show()"
   ]
  },
  {
   "cell_type": "code",
   "execution_count": null,
   "id": "6d6660de",
   "metadata": {},
   "outputs": [],
   "source": []
  }
 ],
 "metadata": {
  "kernelspec": {
   "display_name": "Python 3 (ipykernel)",
   "language": "python",
   "name": "python3"
  },
  "language_info": {
   "codemirror_mode": {
    "name": "ipython",
    "version": 3
   },
   "file_extension": ".py",
   "mimetype": "text/x-python",
   "name": "python",
   "nbconvert_exporter": "python",
   "pygments_lexer": "ipython3",
   "version": "3.9.12"
  }
 },
 "nbformat": 4,
 "nbformat_minor": 5
}
